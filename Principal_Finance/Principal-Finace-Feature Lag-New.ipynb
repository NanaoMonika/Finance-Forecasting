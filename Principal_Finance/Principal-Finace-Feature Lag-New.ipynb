{
 "cells": [
  {
   "cell_type": "code",
   "execution_count": 1,
   "metadata": {},
   "outputs": [],
   "source": [
    "import numpy as np\n",
    "import pandas as pd\n",
    "from sklearn import linear_model as lm\n",
    "from sklearn import metrics\n",
    "from sklearn.ensemble import ExtraTreesRegressor\n",
    "from sklearn.linear_model import Ridge\n",
    "import scipy.stats as stat\n",
    "import matplotlib.pyplot as plt\n",
    "%matplotlib inline"
   ]
  },
  {
   "cell_type": "code",
   "execution_count": 2,
   "metadata": {},
   "outputs": [],
   "source": [
    "df_train=pd.read_csv('Pr_train_20.csv',parse_dates=['PERIOD (FORMATTED)'],index_col='PERIOD (FORMATTED)',\n",
    "                 infer_datetime_format=True, encoding='utf-8')"
   ]
  },
  {
   "cell_type": "code",
   "execution_count": 19,
   "metadata": {},
   "outputs": [],
   "source": [
    "cols_to_not_use = {'Excess','FUTURE 24 WEEK RETURNS', 'IDENTIFIER', 'PERIOD (FORMATTED)'}\n",
    "cols_to_use = list(filter(lambda c: c not in cols_to_not_use, df_train.columns))"
   ]
  },
  {
   "cell_type": "code",
   "execution_count": 20,
   "metadata": {},
   "outputs": [
    {
     "data": {
      "text/plain": [
       "['RANK',\n",
       " '1M_RET',\n",
       " 'MCAP',\n",
       " '1SS_ERNQLT',\n",
       " 'IST_SURPY1',\n",
       " 'ACCX',\n",
       " 'ARM_PFD_COMP',\n",
       " 'RET24M_L1M',\n",
       " 'RSI_12M.1',\n",
       " 'MIN12M.1',\n",
       " 'CASH_P.1',\n",
       " 'EV.1',\n",
       " 'RVM_CFO_AST.1',\n",
       " 'VALUE_COM.1',\n",
       " 'QUALITY.1',\n",
       " 'RISK',\n",
       " 'TECHNICAL1.1',\n",
       " 'PP_RANK',\n",
       " 'RANK_Lag',\n",
       " 'MCAP_Lag',\n",
       " '1SS_ERNQLT_Lag',\n",
       " 'IST_SURPY1_Lag',\n",
       " 'ACCX_Lag',\n",
       " 'ARM_PFD_COMP_Lag',\n",
       " 'CASH_P.1_Lag',\n",
       " 'EV.1_Lag',\n",
       " 'RVM_CFO_AST.1_Lag',\n",
       " 'VALUE_COM.1_Lag',\n",
       " 'QUALITY.1_Lag',\n",
       " 'RISK_Lag',\n",
       " 'TECHNICAL1.1_Lag']"
      ]
     },
     "execution_count": 20,
     "metadata": {},
     "output_type": "execute_result"
    }
   ],
   "source": [
    "cols_to_use"
   ]
  },
  {
   "cell_type": "code",
   "execution_count": 14,
   "metadata": {},
   "outputs": [],
   "source": [
    "df_train=df_train.reset_index()"
   ]
  },
  {
   "cell_type": "code",
   "execution_count": 35,
   "metadata": {},
   "outputs": [],
   "source": [
    "df_train['RANK_Lag'] = df_train.sort_values(['PERIOD (FORMATTED)']).groupby(['IDENTIFIER'])['RANK'].shift(3)\n",
    "df_train['MCAP_Lag'] = df_train.sort_values(['PERIOD (FORMATTED)']).groupby(['IDENTIFIER'])['MCAP'].shift(3)\n",
    "df_train['1SS_ERNQLT_Lag'] = df_train.sort_values(['PERIOD (FORMATTED)']).groupby(['IDENTIFIER'])['1SS_ERNQLT'].shift(3)\n",
    "df_train['IST_SURPY1_Lag'] = df_train.sort_values(['PERIOD (FORMATTED)']).groupby(['IDENTIFIER'])['IST_SURPY1'].shift(3)\n",
    "df_train['ACCX_Lag'] = df_train.sort_values(['PERIOD (FORMATTED)']).groupby(['IDENTIFIER'])['ACCX'].shift(3)\n",
    "df_train['ARM_PFD_COMP_Lag'] = df_train.sort_values(['PERIOD (FORMATTED)']).groupby(['IDENTIFIER'])['ARM_PFD_COMP'].shift(3)\n",
    "df_train['CASH_P.1_Lag'] = df_train.sort_values(['PERIOD (FORMATTED)']).groupby(['IDENTIFIER'])['CASH_P.1'].shift(3)\n",
    "df_train['EV.1_Lag'] = df_train.sort_values(['PERIOD (FORMATTED)']).groupby(['IDENTIFIER'])['EV.1'].shift(3)\n",
    "df_train['RVM_CFO_AST.1_Lag'] = df_train.sort_values(['PERIOD (FORMATTED)']).groupby(['IDENTIFIER'])['RVM_CFO_AST.1'].shift(3)\n",
    "df_train['VALUE_COM.1_Lag'] = df_train.sort_values(['PERIOD (FORMATTED)']).groupby(['IDENTIFIER'])['VALUE_COM.1'].shift(3)\n",
    "df_train['QUALITY.1_Lag'] = df_train.sort_values(['PERIOD (FORMATTED)']).groupby(['IDENTIFIER'])['QUALITY.1'].shift(3)\n",
    "df_train['RISK_Lag'] = df_train.sort_values(['PERIOD (FORMATTED)']).groupby(['IDENTIFIER'])['RISK'].shift(3)\n",
    "df_train['TECHNICAL1.1_Lag'] = df_train.sort_values(['PERIOD (FORMATTED)']).groupby(['IDENTIFIER'])['TECHNICAL1.1'].shift(3)\n",
    "df_train['PP_RANK'] = df_train.sort_values(['PERIOD (FORMATTED)']).groupby(['IDENTIFIER'])['PP_RANK'].shift(3)"
   ]
  },
  {
   "cell_type": "code",
   "execution_count": 36,
   "metadata": {},
   "outputs": [
    {
     "data": {
      "text/plain": [
       "PERIOD (FORMATTED)            0\n",
       "IDENTIFIER                    0\n",
       "RANK                          0\n",
       "1M_RET                        0\n",
       "MCAP                          0\n",
       "1SS_ERNQLT                    0\n",
       "IST_SURPY1                    0\n",
       "ACCX                          0\n",
       "ARM_PFD_COMP                  0\n",
       "RET24M_L1M                    0\n",
       "RSI_12M.1                     0\n",
       "MIN12M.1                      0\n",
       "CASH_P.1                      0\n",
       "EV.1                          0\n",
       "RVM_CFO_AST.1                 0\n",
       "VALUE_COM.1                   0\n",
       "QUALITY.1                     0\n",
       "RISK                          0\n",
       "TECHNICAL1.1                  0\n",
       "PP_RANK                   14196\n",
       "FUTURE 24 WEEK RETURNS        0\n",
       "Excess                        0\n",
       "RANK_Lag                  14196\n",
       "MCAP_Lag                  14196\n",
       "1SS_ERNQLT_Lag            14196\n",
       "IST_SURPY1_Lag            14196\n",
       "ACCX_Lag                  14196\n",
       "ARM_PFD_COMP_Lag          14196\n",
       "CASH_P.1_Lag              14196\n",
       "EV.1_Lag                  14196\n",
       "RVM_CFO_AST.1_Lag         14196\n",
       "VALUE_COM.1_Lag           14196\n",
       "QUALITY.1_Lag             14196\n",
       "RISK_Lag                  14196\n",
       "TECHNICAL1.1_Lag          14196\n",
       "dtype: int64"
      ]
     },
     "execution_count": 36,
     "metadata": {},
     "output_type": "execute_result"
    }
   ],
   "source": [
    "df_train.isnull().values.any()\n",
    "df_train.isnull().sum()"
   ]
  },
  {
   "cell_type": "code",
   "execution_count": 37,
   "metadata": {},
   "outputs": [],
   "source": [
    "df_train=df_train.dropna(subset=['RANK_Lag','PP_RANK','MCAP_Lag','1SS_ERNQLT_Lag','IST_SURPY1_Lag','ACCX_Lag','ARM_PFD_COMP_Lag'\n",
    "                                ,'CASH_P.1_Lag','EV.1_Lag','RVM_CFO_AST.1_Lag','VALUE_COM.1_Lag','QUALITY.1_Lag','RISK_Lag','TECHNICAL1.1_Lag'])"
   ]
  },
  {
   "cell_type": "code",
   "execution_count": 38,
   "metadata": {},
   "outputs": [
    {
     "data": {
      "text/plain": [
       "PERIOD (FORMATTED)        0\n",
       "IDENTIFIER                0\n",
       "RANK                      0\n",
       "1M_RET                    0\n",
       "MCAP                      0\n",
       "1SS_ERNQLT                0\n",
       "IST_SURPY1                0\n",
       "ACCX                      0\n",
       "ARM_PFD_COMP              0\n",
       "RET24M_L1M                0\n",
       "RSI_12M.1                 0\n",
       "MIN12M.1                  0\n",
       "CASH_P.1                  0\n",
       "EV.1                      0\n",
       "RVM_CFO_AST.1             0\n",
       "VALUE_COM.1               0\n",
       "QUALITY.1                 0\n",
       "RISK                      0\n",
       "TECHNICAL1.1              0\n",
       "PP_RANK                   0\n",
       "FUTURE 24 WEEK RETURNS    0\n",
       "Excess                    0\n",
       "RANK_Lag                  0\n",
       "MCAP_Lag                  0\n",
       "1SS_ERNQLT_Lag            0\n",
       "IST_SURPY1_Lag            0\n",
       "ACCX_Lag                  0\n",
       "ARM_PFD_COMP_Lag          0\n",
       "CASH_P.1_Lag              0\n",
       "EV.1_Lag                  0\n",
       "RVM_CFO_AST.1_Lag         0\n",
       "VALUE_COM.1_Lag           0\n",
       "QUALITY.1_Lag             0\n",
       "RISK_Lag                  0\n",
       "TECHNICAL1.1_Lag          0\n",
       "dtype: int64"
      ]
     },
     "execution_count": 38,
     "metadata": {},
     "output_type": "execute_result"
    }
   ],
   "source": [
    "df_train.isnull().values.any()\n",
    "df_train.isnull().sum()"
   ]
  },
  {
   "cell_type": "code",
   "execution_count": 39,
   "metadata": {},
   "outputs": [],
   "source": [
    "df_test=pd.read_csv('Pr_test_20.csv',parse_dates=['PERIOD (FORMATTED)'],index_col='PERIOD (FORMATTED)',\n",
    "                 infer_datetime_format=True, encoding='utf-8')"
   ]
  },
  {
   "cell_type": "code",
   "execution_count": 40,
   "metadata": {},
   "outputs": [],
   "source": [
    "df_test=df_test.reset_index()"
   ]
  },
  {
   "cell_type": "code",
   "execution_count": 41,
   "metadata": {},
   "outputs": [],
   "source": [
    "df_test['RANK_Lag'] = df_test.sort_values(['PERIOD (FORMATTED)']).groupby(['IDENTIFIER'])['RANK'].shift(3)\n",
    "df_test['MCAP_Lag'] = df_test.sort_values(['PERIOD (FORMATTED)']).groupby(['IDENTIFIER'])['MCAP'].shift(3)\n",
    "df_test['1SS_ERNQLT_Lag'] = df_test.sort_values(['PERIOD (FORMATTED)']).groupby(['IDENTIFIER'])['1SS_ERNQLT'].shift(3)\n",
    "df_test['IST_SURPY1_Lag'] = df_test.sort_values(['PERIOD (FORMATTED)']).groupby(['IDENTIFIER'])['IST_SURPY1'].shift(3)\n",
    "df_test['ACCX_Lag'] = df_test.sort_values(['PERIOD (FORMATTED)']).groupby(['IDENTIFIER'])['ACCX'].shift(3)\n",
    "df_test['ARM_PFD_COMP_Lag'] = df_test.sort_values(['PERIOD (FORMATTED)']).groupby(['IDENTIFIER'])['ARM_PFD_COMP'].shift(3)\n",
    "df_test['CASH_P.1_Lag'] = df_test.sort_values(['PERIOD (FORMATTED)']).groupby(['IDENTIFIER'])['CASH_P.1'].shift(3)\n",
    "df_test['EV.1_Lag'] = df_test.sort_values(['PERIOD (FORMATTED)']).groupby(['IDENTIFIER'])['EV.1'].shift(3)\n",
    "df_test['RVM_CFO_AST.1_Lag'] = df_test.sort_values(['PERIOD (FORMATTED)']).groupby(['IDENTIFIER'])['RVM_CFO_AST.1'].shift(3)\n",
    "df_test['VALUE_COM.1_Lag'] = df_test.sort_values(['PERIOD (FORMATTED)']).groupby(['IDENTIFIER'])['VALUE_COM.1'].shift(3)\n",
    "df_test['QUALITY.1_Lag'] = df_test.sort_values(['PERIOD (FORMATTED)']).groupby(['IDENTIFIER'])['QUALITY.1'].shift(3)\n",
    "df_test['RISK_Lag'] = df_test.sort_values(['PERIOD (FORMATTED)']).groupby(['IDENTIFIER'])['RISK'].shift(3)\n",
    "df_test['TECHNICAL1.1_Lag'] = df_test.sort_values(['PERIOD (FORMATTED)']).groupby(['IDENTIFIER'])['TECHNICAL1.1'].shift(3)\n",
    "df_test['PP_RANK_lag'] = df_test.sort_values(['PERIOD (FORMATTED)']).groupby(['IDENTIFIER'])['PP_RANK'].shift(3)"
   ]
  },
  {
   "cell_type": "code",
   "execution_count": 42,
   "metadata": {},
   "outputs": [],
   "source": [
    "df_test=df_test.dropna(subset=['RANK_Lag','PP_RANK','MCAP_Lag','1SS_ERNQLT_Lag','IST_SURPY1_Lag','ACCX_Lag','ARM_PFD_COMP_Lag'\n",
    "                                ,'CASH_P.1_Lag','EV.1_Lag','RVM_CFO_AST.1_Lag','VALUE_COM.1_Lag','QUALITY.1_Lag','RISK_Lag','TECHNICAL1.1_Lag'])"
   ]
  },
  {
   "cell_type": "markdown",
   "metadata": {},
   "source": [
    "## Extra Tree"
   ]
  },
  {
   "cell_type": "code",
   "execution_count": 25,
   "metadata": {},
   "outputs": [],
   "source": [
    "ETR_model = ExtraTreesRegressor(n_estimators=100, max_depth=4, n_jobs=-1, random_state=17, verbose=0)\n",
    "model2 = ETR_model.fit(df_train[cols_to_use], df_train['Excess'])"
   ]
  },
  {
   "cell_type": "code",
   "execution_count": 30,
   "metadata": {},
   "outputs": [],
   "source": [
    "Preds_Excess_2=model2.predict(df_test[cols_to_use])"
   ]
  },
  {
   "cell_type": "code",
   "execution_count": 31,
   "metadata": {},
   "outputs": [
    {
     "data": {
      "text/plain": [
       "18.920370307096206"
      ]
     },
     "execution_count": 31,
     "metadata": {},
     "output_type": "execute_result"
    }
   ],
   "source": [
    "#RMSE\n",
    "np.sqrt(metrics.mean_squared_error(df_test['Excess'],Preds_Excess_2))"
   ]
  },
  {
   "cell_type": "markdown",
   "metadata": {},
   "source": [
    "## Ridge"
   ]
  },
  {
   "cell_type": "code",
   "execution_count": 32,
   "metadata": {},
   "outputs": [],
   "source": [
    "Rid=Ridge()\n",
    "model3=Rid.fit(df_train[cols_to_use], df_train['Excess'])"
   ]
  },
  {
   "cell_type": "code",
   "execution_count": 33,
   "metadata": {},
   "outputs": [],
   "source": [
    "Preds_Excess_4=model3.predict(df_test[cols_to_use])"
   ]
  },
  {
   "cell_type": "code",
   "execution_count": 34,
   "metadata": {},
   "outputs": [
    {
     "data": {
      "text/plain": [
       "19.005051307596368"
      ]
     },
     "execution_count": 34,
     "metadata": {},
     "output_type": "execute_result"
    }
   ],
   "source": [
    "#RMSE\n",
    "np.sqrt(metrics.mean_squared_error(df_test['Excess'],Preds_Excess_4))"
   ]
  },
  {
   "cell_type": "markdown",
   "metadata": {},
   "source": [
    "## Extra Tree for lag=3"
   ]
  },
  {
   "cell_type": "code",
   "execution_count": 43,
   "metadata": {},
   "outputs": [],
   "source": [
    "ETR_model = ExtraTreesRegressor(n_estimators=100, max_depth=4, n_jobs=-1, random_state=17, verbose=0)\n",
    "model2 = ETR_model.fit(df_train[cols_to_use], df_train['Excess'])"
   ]
  },
  {
   "cell_type": "code",
   "execution_count": 44,
   "metadata": {},
   "outputs": [],
   "source": [
    "Preds_Excess_2=model2.predict(df_test[cols_to_use])"
   ]
  },
  {
   "cell_type": "code",
   "execution_count": 45,
   "metadata": {},
   "outputs": [
    {
     "data": {
      "text/plain": [
       "18.890523819153699"
      ]
     },
     "execution_count": 45,
     "metadata": {},
     "output_type": "execute_result"
    }
   ],
   "source": [
    "#RMSE\n",
    "np.sqrt(metrics.mean_squared_error(df_test['Excess'],Preds_Excess_2))"
   ]
  },
  {
   "cell_type": "markdown",
   "metadata": {},
   "source": [
    "## Ridge"
   ]
  },
  {
   "cell_type": "code",
   "execution_count": 46,
   "metadata": {},
   "outputs": [],
   "source": [
    "Rid=Ridge()\n",
    "model3=Rid.fit(df_train[cols_to_use], df_train['Excess'])"
   ]
  },
  {
   "cell_type": "code",
   "execution_count": 47,
   "metadata": {},
   "outputs": [],
   "source": [
    "Preds_Excess_4=model3.predict(df_test[cols_to_use])"
   ]
  },
  {
   "cell_type": "code",
   "execution_count": 48,
   "metadata": {},
   "outputs": [
    {
     "data": {
      "text/plain": [
       "19.000162208745042"
      ]
     },
     "execution_count": 48,
     "metadata": {},
     "output_type": "execute_result"
    }
   ],
   "source": [
    "#RMSE\n",
    "np.sqrt(metrics.mean_squared_error(df_test['Excess'],Preds_Excess_4))"
   ]
  },
  {
   "cell_type": "markdown",
   "metadata": {},
   "source": [
    "## Difference"
   ]
  },
  {
   "cell_type": "code",
   "execution_count": 50,
   "metadata": {},
   "outputs": [],
   "source": [
    "df_train['Diff_Lag_RANK'] = df_train.sort_values(['PERIOD (FORMATTED)']).groupby(['IDENTIFIER'])['RANK'].diff()\n",
    "df_train['Diff_Lag_MCAP'] = df_train.sort_values(['PERIOD (FORMATTED)']).groupby(['IDENTIFIER'])['MCAP'].diff()\n",
    "df_train['Diff_Lag_1SS_ERNQLT'] = df_train.sort_values(['PERIOD (FORMATTED)']).groupby(['IDENTIFIER'])['1SS_ERNQLT'].diff()\n",
    "df_train['Diff_Lag_IST_SURPY1'] = df_train.sort_values(['PERIOD (FORMATTED)']).groupby(['IDENTIFIER'])['IST_SURPY1'].diff()\n",
    "df_train['Diff_Lag_ACCX'] = df_train.sort_values(['PERIOD (FORMATTED)']).groupby(['IDENTIFIER'])['ACCX'].diff()\n",
    "df_train['Diff_Lag_ARM_PFD_COMP'] = df_train.sort_values(['PERIOD (FORMATTED)']).groupby(['IDENTIFIER'])['ARM_PFD_COMP'].diff()\n",
    "df_train['Diff_Lag_CASH_P.1'] = df_train.sort_values(['PERIOD (FORMATTED)']).groupby(['IDENTIFIER'])['CASH_P.1'].diff()\n",
    "df_train['Diff_Lag_EV.1'] = df_train.sort_values(['PERIOD (FORMATTED)']).groupby(['IDENTIFIER'])['EV.1'].diff()\n",
    "df_train['Diff_Lag_RVM_CFO_AST.1'] = df_train.sort_values(['PERIOD (FORMATTED)']).groupby(['IDENTIFIER'])['RVM_CFO_AST.1'].diff()\n",
    "df_train['Diff_Lag_VALUE_COM.1'] = df_train.sort_values(['PERIOD (FORMATTED)']).groupby(['IDENTIFIER'])['VALUE_COM.1'].diff()\n",
    "df_train['Diff_Lag_QUALITY.1'] = df_train.sort_values(['PERIOD (FORMATTED)']).groupby(['IDENTIFIER'])['QUALITY.1'].diff()\n",
    "df_train['Diff_Lag_RISK'] = df_train.sort_values(['PERIOD (FORMATTED)']).groupby(['IDENTIFIER'])['RISK'].diff()\n",
    "df_train['Diff_Lag_TECHNICAL1.1'] = df_train.sort_values(['PERIOD (FORMATTED)']).groupby(['IDENTIFIER'])['TECHNICAL1.1'].diff()\n",
    "df_train['Diff_Lag_PP_RANK'] = df_train.sort_values(['PERIOD (FORMATTED)']).groupby(['IDENTIFIER'])['PP_RANK'].diff()"
   ]
  },
  {
   "cell_type": "code",
   "execution_count": 51,
   "metadata": {},
   "outputs": [
    {
     "data": {
      "text/plain": [
       "PERIOD (FORMATTED)           0\n",
       "IDENTIFIER                   0\n",
       "RANK                         0\n",
       "1M_RET                       0\n",
       "MCAP                         0\n",
       "1SS_ERNQLT                   0\n",
       "IST_SURPY1                   0\n",
       "ACCX                         0\n",
       "ARM_PFD_COMP                 0\n",
       "RET24M_L1M                   0\n",
       "RSI_12M.1                    0\n",
       "MIN12M.1                     0\n",
       "CASH_P.1                     0\n",
       "EV.1                         0\n",
       "RVM_CFO_AST.1                0\n",
       "VALUE_COM.1                  0\n",
       "QUALITY.1                    0\n",
       "RISK                         0\n",
       "TECHNICAL1.1                 0\n",
       "PP_RANK                      0\n",
       "FUTURE 24 WEEK RETURNS       0\n",
       "Excess                       0\n",
       "RANK_Lag                     0\n",
       "MCAP_Lag                     0\n",
       "1SS_ERNQLT_Lag               0\n",
       "IST_SURPY1_Lag               0\n",
       "ACCX_Lag                     0\n",
       "ARM_PFD_COMP_Lag             0\n",
       "CASH_P.1_Lag                 0\n",
       "EV.1_Lag                     0\n",
       "RVM_CFO_AST.1_Lag            0\n",
       "VALUE_COM.1_Lag              0\n",
       "QUALITY.1_Lag                0\n",
       "RISK_Lag                     0\n",
       "TECHNICAL1.1_Lag             0\n",
       "Diff_Lag_RANK             4719\n",
       "Diff_Lag_MCAP             4719\n",
       "Diff_Lag_1SS_ERNQLT       4719\n",
       "Diff_Lag_IST_SURPY1       4719\n",
       "Diff_Lag_ACCX             4719\n",
       "Diff_Lag_ARM_PFD_COMP     4719\n",
       "Diff_Lag_CASH_P.1         4719\n",
       "Diff_Lag_EV.1             4719\n",
       "Diff_Lag_RVM_CFO_AST.1    4719\n",
       "Diff_Lag_VALUE_COM.1      4719\n",
       "Diff_Lag_QUALITY.1        4719\n",
       "Diff_Lag_RISK             4719\n",
       "Diff_Lag_TECHNICAL1.1     4719\n",
       "Diff_Lag_PP_RANK          4719\n",
       "dtype: int64"
      ]
     },
     "execution_count": 51,
     "metadata": {},
     "output_type": "execute_result"
    }
   ],
   "source": [
    "df_train.isnull().values.any()\n",
    "df_train.isnull().sum()"
   ]
  },
  {
   "cell_type": "code",
   "execution_count": 67,
   "metadata": {},
   "outputs": [],
   "source": [
    "df_train=df_train.dropna(subset=['Diff_Lag_RANK','Diff_Lag_PP_RANK','Diff_Lag_MCAP','Diff_Lag_1SS_ERNQLT','Diff_Lag_IST_SURPY1','Diff_Lag_ACCX','Diff_Lag_ARM_PFD_COMP'\n",
    "                                ,'Diff_Lag_CASH_P.1','Diff_Lag_EV.1','Diff_Lag_RVM_CFO_AST.1','Diff_Lag_VALUE_COM.1','Diff_Lag_QUALITY.1','Diff_Lag_RISK','Diff_Lag_TECHNICAL1.1'])"
   ]
  },
  {
   "cell_type": "code",
   "execution_count": 68,
   "metadata": {},
   "outputs": [
    {
     "data": {
      "text/plain": [
       "PERIOD (FORMATTED)        0\n",
       "IDENTIFIER                0\n",
       "RANK                      0\n",
       "1M_RET                    0\n",
       "MCAP                      0\n",
       "1SS_ERNQLT                0\n",
       "IST_SURPY1                0\n",
       "ACCX                      0\n",
       "ARM_PFD_COMP              0\n",
       "RET24M_L1M                0\n",
       "RSI_12M.1                 0\n",
       "MIN12M.1                  0\n",
       "CASH_P.1                  0\n",
       "EV.1                      0\n",
       "RVM_CFO_AST.1             0\n",
       "VALUE_COM.1               0\n",
       "QUALITY.1                 0\n",
       "RISK                      0\n",
       "TECHNICAL1.1              0\n",
       "PP_RANK                   0\n",
       "FUTURE 24 WEEK RETURNS    0\n",
       "Excess                    0\n",
       "RANK_Lag                  0\n",
       "MCAP_Lag                  0\n",
       "1SS_ERNQLT_Lag            0\n",
       "IST_SURPY1_Lag            0\n",
       "ACCX_Lag                  0\n",
       "ARM_PFD_COMP_Lag          0\n",
       "CASH_P.1_Lag              0\n",
       "EV.1_Lag                  0\n",
       "RVM_CFO_AST.1_Lag         0\n",
       "VALUE_COM.1_Lag           0\n",
       "QUALITY.1_Lag             0\n",
       "RISK_Lag                  0\n",
       "TECHNICAL1.1_Lag          0\n",
       "Diff_Lag_RANK             0\n",
       "Diff_Lag_MCAP             0\n",
       "Diff_Lag_1SS_ERNQLT       0\n",
       "Diff_Lag_IST_SURPY1       0\n",
       "Diff_Lag_ACCX             0\n",
       "Diff_Lag_ARM_PFD_COMP     0\n",
       "Diff_Lag_CASH_P.1         0\n",
       "Diff_Lag_EV.1             0\n",
       "Diff_Lag_RVM_CFO_AST.1    0\n",
       "Diff_Lag_VALUE_COM.1      0\n",
       "Diff_Lag_QUALITY.1        0\n",
       "Diff_Lag_RISK             0\n",
       "Diff_Lag_TECHNICAL1.1     0\n",
       "Diff_Lag_PP_RANK          0\n",
       "dtype: int64"
      ]
     },
     "execution_count": 68,
     "metadata": {},
     "output_type": "execute_result"
    }
   ],
   "source": [
    "df_train.isnull().values.any()\n",
    "df_train.isnull().sum()"
   ]
  },
  {
   "cell_type": "code",
   "execution_count": 82,
   "metadata": {},
   "outputs": [],
   "source": [
    "cols_to_not_use = {'Excess','FUTURE 24 WEEK RETURNS', 'IDENTIFIER', 'PERIOD (FORMATTED)'}\n",
    "cols_to_use = list(filter(lambda c: c not in cols_to_not_use, df_train.columns))"
   ]
  },
  {
   "cell_type": "code",
   "execution_count": 61,
   "metadata": {},
   "outputs": [],
   "source": [
    "df_test['Diff_Lag_RANK'] = df_test.sort_values(['PERIOD (FORMATTED)']).groupby(['IDENTIFIER'])['RANK'].diff()\n",
    "df_test['Diff_Lag_MCAP'] = df_test.sort_values(['PERIOD (FORMATTED)']).groupby(['IDENTIFIER'])['MCAP'].diff()\n",
    "df_test['Diff_Lag_1SS_ERNQLT'] = df_test.sort_values(['PERIOD (FORMATTED)']).groupby(['IDENTIFIER'])['1SS_ERNQLT'].diff()\n",
    "df_test['Diff_Lag_IST_SURPY1'] = df_test.sort_values(['PERIOD (FORMATTED)']).groupby(['IDENTIFIER'])['IST_SURPY1'].diff()\n",
    "df_test['Diff_Lag_ACCX'] = df_test.sort_values(['PERIOD (FORMATTED)']).groupby(['IDENTIFIER'])['ACCX'].diff()\n",
    "df_test['Diff_Lag_ARM_PFD_COMP'] = df_test.sort_values(['PERIOD (FORMATTED)']).groupby(['IDENTIFIER'])['ARM_PFD_COMP'].diff()\n",
    "df_test['Diff_Lag_CASH_P.1'] = df_test.sort_values(['PERIOD (FORMATTED)']).groupby(['IDENTIFIER'])['CASH_P.1'].diff()\n",
    "df_test['Diff_Lag_EV.1'] = df_test.sort_values(['PERIOD (FORMATTED)']).groupby(['IDENTIFIER'])['EV.1'].diff()\n",
    "df_test['Diff_Lag_RVM_CFO_AST.1'] = df_test.sort_values(['PERIOD (FORMATTED)']).groupby(['IDENTIFIER'])['RVM_CFO_AST.1'].diff()\n",
    "df_test['Diff_Lag_VALUE_COM.1'] = df_test.sort_values(['PERIOD (FORMATTED)']).groupby(['IDENTIFIER'])['VALUE_COM.1'].diff()\n",
    "df_test['Diff_Lag_QUALITY.1'] = df_test.sort_values(['PERIOD (FORMATTED)']).groupby(['IDENTIFIER'])['QUALITY.1'].diff()\n",
    "df_test['Diff_Lag_RISK'] = df_test.sort_values(['PERIOD (FORMATTED)']).groupby(['IDENTIFIER'])['RISK'].diff()\n",
    "df_test['Diff_Lag_TECHNICAL1.1'] = df_test.sort_values(['PERIOD (FORMATTED)']).groupby(['IDENTIFIER'])['TECHNICAL1.1'].diff()\n",
    "df_test['Diff_Lag_PP_RANK'] = df_test.sort_values(['PERIOD (FORMATTED)']).groupby(['IDENTIFIER'])['PP_RANK'].diff()"
   ]
  },
  {
   "cell_type": "code",
   "execution_count": 62,
   "metadata": {},
   "outputs": [],
   "source": [
    "df_test=df_test.dropna(subset=['Diff_Lag_RANK','Diff_Lag_PP_RANK','Diff_Lag_MCAP','Diff_Lag_1SS_ERNQLT','Diff_Lag_IST_SURPY1','Diff_Lag_ACCX','Diff_Lag_ARM_PFD_COMP'\n",
    "                                ,'Diff_Lag_CASH_P.1','Diff_Lag_EV.1','Diff_Lag_RVM_CFO_AST.1','Diff_Lag_VALUE_COM.1','Diff_Lag_QUALITY.1','Diff_Lag_RISK','Diff_Lag_TECHNICAL1.1'])"
   ]
  },
  {
   "cell_type": "markdown",
   "metadata": {},
   "source": [
    "## Extra Tree"
   ]
  },
  {
   "cell_type": "code",
   "execution_count": 57,
   "metadata": {},
   "outputs": [],
   "source": [
    "ETR_model = ExtraTreesRegressor(n_estimators=100, max_depth=4, n_jobs=-1, random_state=17, verbose=0)\n",
    "model2 = ETR_model.fit(df_train[cols_to_use], df_train['Excess'])"
   ]
  },
  {
   "cell_type": "code",
   "execution_count": 63,
   "metadata": {},
   "outputs": [],
   "source": [
    "Preds_Excess_2=model2.predict(df_test[cols_to_use])"
   ]
  },
  {
   "cell_type": "code",
   "execution_count": 64,
   "metadata": {},
   "outputs": [
    {
     "data": {
      "text/plain": [
       "18.879556848824297"
      ]
     },
     "execution_count": 64,
     "metadata": {},
     "output_type": "execute_result"
    }
   ],
   "source": [
    "#RMSE\n",
    "np.sqrt(metrics.mean_squared_error(df_test['Excess'],Preds_Excess_2))"
   ]
  },
  {
   "cell_type": "markdown",
   "metadata": {},
   "source": [
    "## Ridge"
   ]
  },
  {
   "cell_type": "code",
   "execution_count": 69,
   "metadata": {},
   "outputs": [],
   "source": [
    "Rid=Ridge()\n",
    "model3=Rid.fit(df_train[cols_to_use], df_train['Excess'])"
   ]
  },
  {
   "cell_type": "code",
   "execution_count": 70,
   "metadata": {},
   "outputs": [],
   "source": [
    "Preds_Excess_4=model3.predict(df_test[cols_to_use])"
   ]
  },
  {
   "cell_type": "code",
   "execution_count": 71,
   "metadata": {},
   "outputs": [
    {
     "data": {
      "text/plain": [
       "18.889433977808462"
      ]
     },
     "execution_count": 71,
     "metadata": {},
     "output_type": "execute_result"
    }
   ],
   "source": [
    "#RMSE\n",
    "np.sqrt(metrics.mean_squared_error(df_test['Excess'],Preds_Excess_4))"
   ]
  },
  {
   "cell_type": "code",
   "execution_count": 74,
   "metadata": {},
   "outputs": [
    {
     "data": {
      "text/plain": [
       "Index(['PERIOD (FORMATTED)', 'IDENTIFIER', 'RANK', '1M_RET', 'MCAP',\n",
       "       '1SS_ERNQLT', 'IST_SURPY1', 'ACCX', 'ARM_PFD_COMP', 'RET24M_L1M',\n",
       "       'RSI_12M.1', 'MIN12M.1', 'CASH_P.1', 'EV.1', 'RVM_CFO_AST.1',\n",
       "       'VALUE_COM.1', 'QUALITY.1', 'RISK', 'TECHNICAL1.1', 'PP_RANK',\n",
       "       'FUTURE 24 WEEK RETURNS', 'Excess', 'RANK_Lag', 'MCAP_Lag',\n",
       "       '1SS_ERNQLT_Lag', 'IST_SURPY1_Lag', 'ACCX_Lag', 'ARM_PFD_COMP_Lag',\n",
       "       'CASH_P.1_Lag', 'EV.1_Lag', 'RVM_CFO_AST.1_Lag', 'VALUE_COM.1_Lag',\n",
       "       'QUALITY.1_Lag', 'RISK_Lag', 'TECHNICAL1.1_Lag', 'Diff_Lag_RANK',\n",
       "       'Diff_Lag_MCAP', 'Diff_Lag_1SS_ERNQLT', 'Diff_Lag_IST_SURPY1',\n",
       "       'Diff_Lag_ACCX', 'Diff_Lag_ARM_PFD_COMP', 'Diff_Lag_CASH_P.1',\n",
       "       'Diff_Lag_EV.1', 'Diff_Lag_RVM_CFO_AST.1', 'Diff_Lag_VALUE_COM.1',\n",
       "       'Diff_Lag_QUALITY.1', 'Diff_Lag_RISK', 'Diff_Lag_TECHNICAL1.1',\n",
       "       'Diff_Lag_PP_RANK'],\n",
       "      dtype='object')"
      ]
     },
     "execution_count": 74,
     "metadata": {},
     "output_type": "execute_result"
    }
   ],
   "source": [
    "df_train.columns"
   ]
  },
  {
   "cell_type": "markdown",
   "metadata": {},
   "source": [
    "## More Features"
   ]
  },
  {
   "cell_type": "code",
   "execution_count": 79,
   "metadata": {},
   "outputs": [],
   "source": [
    "df_train['RANK_Sum_Lag'] = df_train.apply(lambda row: row['RANK'] + row['RANK_Lag'], axis=1)\n",
    "df_test['RANK_Sum_Lag'] = df_test.apply(lambda row: row['RANK'] + row['RANK_Lag'], axis=1)\n",
    "df_train['MCAP_Sum_Lag'] = df_train.apply(lambda row: row['MCAP'] + row['MCAP_Lag'], axis=1)\n",
    "df_test['MCAP_Sum_Lag'] = df_test.apply(lambda row: row['MCAP'] + row['MCAP_Lag'], axis=1)\n",
    "df_train['1SS_ERNQLT_Sum_Lag'] = df_train.apply(lambda row: row['1SS_ERNQLT'] + row['1SS_ERNQLT_Lag'], axis=1)\n",
    "df_test['1SS_ERNQLT_Sum_Lag'] = df_test.apply(lambda row: row['1SS_ERNQLT'] + row['1SS_ERNQLT_Lag'], axis=1)\n",
    "df_train['IST_SURPY1_Sum_Lag'] = df_train.apply(lambda row: row['IST_SURPY1'] + row['IST_SURPY1_Lag'], axis=1)\n",
    "df_test['IST_SURPY1_Sum_Lag'] = df_test.apply(lambda row: row['IST_SURPY1'] + row['IST_SURPY1_Lag'], axis=1)\n",
    "df_train['ACCX_Sum_Lag'] = df_train.apply(lambda row: row['ACCX'] + row['ACCX_Lag'], axis=1)\n",
    "df_test['ACCX_Sum_Lag'] = df_test.apply(lambda row: row['ACCX'] + row['ACCX_Lag'], axis=1)\n",
    "df_train['ARM_PFD_COMP_Sum_Lag'] = df_train.apply(lambda row: row['ARM_PFD_COMP'] + row['ARM_PFD_COMP_Lag'], axis=1)\n",
    "df_test['ARM_PFD_COMP_Sum_Lag'] = df_test.apply(lambda row: row['ARM_PFD_COMP'] + row['ARM_PFD_COMP_Lag'], axis=1)\n",
    "df_train['CASH_P.1_Sum_Lag'] = df_train.apply(lambda row: row['CASH_P.1'] + row['CASH_P.1_Lag'], axis=1)\n",
    "df_test['CASH_P.1_Sum_Lag'] = df_test.apply(lambda row: row['CASH_P.1'] + row['CASH_P.1_Lag'], axis=1)\n",
    "df_train['EV.1_Sum_Lag'] = df_train.apply(lambda row: row['EV.1'] + row['EV.1_Lag'], axis=1)\n",
    "df_test['EV.1_Sum_Lag'] = df_test.apply(lambda row: row['EV.1'] + row['EV.1_Lag'], axis=1)\n",
    "df_train['RVM_CFO_AST.1_Sum_Lag'] = df_train.apply(lambda row: row['RVM_CFO_AST.1'] + row['RVM_CFO_AST.1_Lag'], axis=1)\n",
    "df_test['RVM_CFO_AST.1_Sum_Lag'] = df_test.apply(lambda row: row['RVM_CFO_AST.1'] + row['RVM_CFO_AST.1_Lag'], axis=1)\n",
    "df_train['VALUE_COM.1_Sum_Lag'] = df_train.apply(lambda row: row['VALUE_COM.1'] + row['VALUE_COM.1_Lag'], axis=1)\n",
    "df_test['VALUE_COM.1_Sum_Lag'] = df_test.apply(lambda row: row['VALUE_COM.1'] + row['VALUE_COM.1_Lag'], axis=1)\n",
    "df_train['QUALITY.1_Sum_Lag'] = df_train.apply(lambda row: row['QUALITY.1'] + row['QUALITY.1_Lag'], axis=1)\n",
    "df_test['QUALITY.1_Sum_Lag'] = df_test.apply(lambda row: row['QUALITY.1'] + row['QUALITY.1_Lag'], axis=1)\n",
    "df_train['RISK_Sum_Lag'] = df_train.apply(lambda row: row['RISK'] + row['RISK_Lag'], axis=1)\n",
    "df_test['RISK_Sum_Lag'] = df_test.apply(lambda row: row['RISK'] + row['RISK_Lag'], axis=1)\n",
    "df_train['TECHNICAL1.1_Sum_Lag'] = df_train.apply(lambda row: row['TECHNICAL1.1'] + row['TECHNICAL1.1_Lag'], axis=1)\n",
    "df_test['TECHNICAL1.1_Sum_Lag'] = df_test.apply(lambda row: row['TECHNICAL1.1'] + row['TECHNICAL1.1_Lag'], axis=1)"
   ]
  },
  {
   "cell_type": "code",
   "execution_count": 80,
   "metadata": {},
   "outputs": [
    {
     "data": {
      "text/plain": [
       "PERIOD (FORMATTED)        0\n",
       "IDENTIFIER                0\n",
       "RANK                      0\n",
       "1M_RET                    0\n",
       "MCAP                      0\n",
       "1SS_ERNQLT                0\n",
       "IST_SURPY1                0\n",
       "ACCX                      0\n",
       "ARM_PFD_COMP              0\n",
       "RET24M_L1M                0\n",
       "RSI_12M.1                 0\n",
       "MIN12M.1                  0\n",
       "CASH_P.1                  0\n",
       "EV.1                      0\n",
       "RVM_CFO_AST.1             0\n",
       "VALUE_COM.1               0\n",
       "QUALITY.1                 0\n",
       "RISK                      0\n",
       "TECHNICAL1.1              0\n",
       "PP_RANK                   0\n",
       "FUTURE 24 WEEK RETURNS    0\n",
       "Excess                    0\n",
       "RANK_Lag                  0\n",
       "MCAP_Lag                  0\n",
       "1SS_ERNQLT_Lag            0\n",
       "IST_SURPY1_Lag            0\n",
       "ACCX_Lag                  0\n",
       "ARM_PFD_COMP_Lag          0\n",
       "CASH_P.1_Lag              0\n",
       "EV.1_Lag                  0\n",
       "                         ..\n",
       "QUALITY.1_Lag             0\n",
       "RISK_Lag                  0\n",
       "TECHNICAL1.1_Lag          0\n",
       "Diff_Lag_RANK             0\n",
       "Diff_Lag_MCAP             0\n",
       "Diff_Lag_1SS_ERNQLT       0\n",
       "Diff_Lag_IST_SURPY1       0\n",
       "Diff_Lag_ACCX             0\n",
       "Diff_Lag_ARM_PFD_COMP     0\n",
       "Diff_Lag_CASH_P.1         0\n",
       "Diff_Lag_EV.1             0\n",
       "Diff_Lag_RVM_CFO_AST.1    0\n",
       "Diff_Lag_VALUE_COM.1      0\n",
       "Diff_Lag_QUALITY.1        0\n",
       "Diff_Lag_RISK             0\n",
       "Diff_Lag_TECHNICAL1.1     0\n",
       "Diff_Lag_PP_RANK          0\n",
       "RANK_Sum_Lag              0\n",
       "MCAP_Sum_Lag              0\n",
       "1SS_ERNQLT_Sum_Lag        0\n",
       "IST_SURPY1_Sum_Lag        0\n",
       "ACCX_Sum_Lag              0\n",
       "ARM_PFD_COMP_Sum_Lag      0\n",
       "CASH_P.1_Sum_Lag          0\n",
       "EV.1_Sum_Lag              0\n",
       "RVM_CFO_AST.1_Sum_Lag     0\n",
       "VALUE_COM.1_Sum_Lag       0\n",
       "QUALITY.1_Sum_Lag         0\n",
       "RISK_Sum_Lag              0\n",
       "TECHNICAL1.1_Sum_Lag      0\n",
       "Length: 62, dtype: int64"
      ]
     },
     "execution_count": 80,
     "metadata": {},
     "output_type": "execute_result"
    }
   ],
   "source": [
    "df_train.isnull().values.any()\n",
    "df_train.isnull().sum()"
   ]
  },
  {
   "cell_type": "code",
   "execution_count": 83,
   "metadata": {},
   "outputs": [],
   "source": [
    "ETR_model = ExtraTreesRegressor(n_estimators=100, max_depth=4, n_jobs=-1, random_state=17, verbose=0)\n",
    "model2 = ETR_model.fit(df_train[cols_to_use], df_train['Excess'])"
   ]
  },
  {
   "cell_type": "code",
   "execution_count": 84,
   "metadata": {},
   "outputs": [
    {
     "data": {
      "text/plain": [
       "18.866030181514102"
      ]
     },
     "execution_count": 84,
     "metadata": {},
     "output_type": "execute_result"
    }
   ],
   "source": [
    "Preds_Excess_2=model2.predict(df_test[cols_to_use])\n",
    "#RMSE\n",
    "np.sqrt(metrics.mean_squared_error(df_test['Excess'],Preds_Excess_2))"
   ]
  },
  {
   "cell_type": "code",
   "execution_count": 88,
   "metadata": {},
   "outputs": [],
   "source": [
    "Rid=Ridge()\n",
    "model3=Rid.fit(df_train[cols_to_use], df_train['Excess'])"
   ]
  },
  {
   "cell_type": "code",
   "execution_count": 89,
   "metadata": {},
   "outputs": [
    {
     "data": {
      "text/plain": [
       "18.889218555663675"
      ]
     },
     "execution_count": 89,
     "metadata": {},
     "output_type": "execute_result"
    }
   ],
   "source": [
    "Preds_Excess_4=model3.predict(df_test[cols_to_use])\n",
    "#RMSE\n",
    "np.sqrt(metrics.mean_squared_error(df_test['Excess'],Preds_Excess_4))"
   ]
  },
  {
   "cell_type": "code",
   "execution_count": 85,
   "metadata": {},
   "outputs": [],
   "source": [
    "imp = pd.DataFrame(index=cols_to_use)\n",
    "imp['train'] = pd.Series(model2.feature_importances_, index=cols_to_use)"
   ]
  },
  {
   "cell_type": "code",
   "execution_count": 86,
   "metadata": {},
   "outputs": [
    {
     "data": {
      "image/png": "[encoded data removed]",
      "text/plain": [
       "<matplotlib.figure.Figure at 0x117acf278>"
      ]
     },
     "metadata": {},
     "output_type": "display_data"
    }
   ],
   "source": [
    "ax = imp.sort_values('train').tail(10).plot.barh(title='Feature importances With Normal Metrics(ETR)', figsize=(10,6))"
   ]
  },
  {
   "cell_type": "code",
   "execution_count": 90,
   "metadata": {},
   "outputs": [],
   "source": [
    "imp_R = pd.DataFrame(index=cols_to_use)\n",
    "imp_R['train'] = pd.Series(model3.coef_, index=cols_to_use)"
   ]
  },
  {
   "cell_type": "code",
   "execution_count": 91,
   "metadata": {},
   "outputs": [
    {
     "data": {
      "image/png": "[encoded data removed]",
      "text/plain": [
       "<matplotlib.figure.Figure at 0x111b7a080>"
      ]
     },
     "metadata": {},
     "output_type": "display_data"
    }
   ],
   "source": [
    "ax = imp_R.sort_values('train').tail(10).plot.barh(title='Feature importances with derived Varibales(Ridge)', figsize=(10,6))"
   ]
  },
  {
   "cell_type": "code",
   "execution_count": 93,
   "metadata": {},
   "outputs": [],
   "source": [
    "df_test['Excess_Predicted_ET']=Preds_Excess_2\n",
    "df_test['Excess_Predicted_Ridge']=Preds_Excess_4\n",
    "df_test['Error_ET'] = df_test['Excess']-df_test['Excess_Predicted_ET']\n",
    "df_test['Val_R'] = df_test['Excess']-df_test['Excess_Predicted_Ridge']"
   ]
  },
  {
   "cell_type": "code",
   "execution_count": 94,
   "metadata": {},
   "outputs": [
    {
     "name": "stdout",
     "output_type": "stream",
     "text": [
      "Current size: [6.0, 4.0]\n",
      "Current size: [12, 10]\n"
     ]
    }
   ],
   "source": [
    "fig_size = plt.rcParams[\"figure.figsize\"]\n",
    " \n",
    "# Prints: [8.0, 6.0]\n",
    "print (\"Current size:\", fig_size)\n",
    "fig_size[0] = 12\n",
    "fig_size[1] = 10\n",
    "plt.rcParams[\"figure.figsize\"] = fig_size\n",
    "print (\"Current size:\", fig_size)"
   ]
  },
  {
   "cell_type": "code",
   "execution_count": 95,
   "metadata": {},
   "outputs": [
    {
     "data": {
      "text/plain": [
       "<matplotlib.axes._subplots.AxesSubplot at 0x1138a79e8>"
      ]
     },
     "execution_count": 95,
     "metadata": {},
     "output_type": "execute_result"
    },
    {
     "data": {
      "image/png": "[encoded data removed]",
      "text/plain": [
       "<matplotlib.figure.Figure at 0x111b7ab70>"
      ]
     },
     "metadata": {},
     "output_type": "display_data"
    }
   ],
   "source": [
    "df_test.groupby('PERIOD (FORMATTED)')['Excess','Excess_Predicted_ET','Error_ET'].mean().plot(marker='.')"
   ]
  },
  {
   "cell_type": "code",
   "execution_count": 96,
   "metadata": {},
   "outputs": [
    {
     "data": {
      "text/plain": [
       "<matplotlib.axes._subplots.AxesSubplot at 0x113afb5c0>"
      ]
     },
     "execution_count": 96,
     "metadata": {},
     "output_type": "execute_result"
    },
    {
     "data": {
      "image/png": "[encoded data removed]",
      "text/plain": [
       "<matplotlib.figure.Figure at 0x113a30438>"
      ]
     },
     "metadata": {},
     "output_type": "display_data"
    }
   ],
   "source": [
    "df_test.groupby('PERIOD (FORMATTED)')['Excess','Excess_Predicted_Ridge','Val_R'].mean().plot(marker='.')"
   ]
  },
  {
   "cell_type": "code",
   "execution_count": null,
   "metadata": {},
   "outputs": [],
   "source": []
  }
 ],
 "metadata": {
  "kernelspec": {
   "display_name": "Python 3",
   "language": "python",
   "name": "python3"
  },
  "language_info": {
   "codemirror_mode": {
    "name": "ipython",
    "version": 3
   },
   "file_extension": ".py",
   "mimetype": "text/x-python",
   "name": "python",
   "nbconvert_exporter": "python",
   "pygments_lexer": "ipython3",
   "version": "3.6.2"
  }
 },
 "nbformat": 4,
 "nbformat_minor": 2
}
